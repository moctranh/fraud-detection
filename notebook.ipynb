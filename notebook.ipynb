{
 "cells": [
  {
   "metadata": {},
   "cell_type": "markdown",
   "source": "# Data sample in kaggle",
   "id": "ce7a478c9b2c00b2"
  },
  {
   "cell_type": "code",
   "id": "initial_id",
   "metadata": {
    "collapsed": true,
    "ExecuteTime": {
     "end_time": "2025-04-15T02:08:10.311985Z",
     "start_time": "2025-04-15T02:07:47.919882Z"
    }
   },
   "source": [
    "import kagglehub\n",
    "\n",
    "# Download latest version\n",
    "path = kagglehub.dataset_download(handle=\"mlg-ulb/creditcardfraud\", force_download=True)\n",
    "\n",
    "print(\"Path to dataset files:\", path)\n"
   ],
   "outputs": [
    {
     "name": "stdout",
     "output_type": "stream",
     "text": [
      "Downloading from https://www.kaggle.com/api/v1/datasets/download/mlg-ulb/creditcardfraud?dataset_version_number=3...\n"
     ]
    },
    {
     "name": "stderr",
     "output_type": "stream",
     "text": [
      "100%|██████████| 66.0M/66.0M [00:03<00:00, 19.9MB/s]"
     ]
    },
    {
     "name": "stdout",
     "output_type": "stream",
     "text": [
      "Extracting files...\n"
     ]
    },
    {
     "name": "stderr",
     "output_type": "stream",
     "text": [
      "\n"
     ]
    },
    {
     "name": "stdout",
     "output_type": "stream",
     "text": [
      "Path to dataset files: C:\\Users\\admin\\.cache\\kagglehub\\datasets\\mlg-ulb\\creditcardfraud\\versions\\3\n"
     ]
    }
   ],
   "execution_count": 11
  },
  {
   "metadata": {
    "ExecuteTime": {
     "end_time": "2025-04-15T02:10:28.587743Z",
     "start_time": "2025-04-15T02:10:28.484076Z"
    }
   },
   "cell_type": "code",
   "source": [
    "import shutil\n",
    "import os\n",
    "\n",
    "# Đường dẫn gốc (dataset từ Kaggle)\n",
    "src = path\n",
    "\n",
    "# Thư mục đích\n",
    "dst = r\".\\dataset\"\n",
    "\n",
    "# Tạo thư mục đích nếu chưa có\n",
    "os.makedirs(dst, exist_ok=True)\n",
    "\n",
    "# Di chuyển tất cả các file\n",
    "for filename in os.listdir(src):\n",
    "    src_file = os.path.join(src, filename)\n",
    "    dst_file = os.path.join(dst, filename)\n",
    "    shutil.move(src_file, dst_file)\n",
    "\n",
    "print(\"✅ Dataset đã được chuyển tới\", dst)"
   ],
   "id": "fcba8f70f8df0702",
   "outputs": [
    {
     "name": "stdout",
     "output_type": "stream",
     "text": [
      "✅ Dataset đã được chuyển tới .\\dataset\n"
     ]
    }
   ],
   "execution_count": 12
  },
  {
   "metadata": {},
   "cell_type": "markdown",
   "source": "# Demo Fraud detection",
   "id": "2788db3206ca8eb4"
  },
  {
   "metadata": {},
   "cell_type": "markdown",
   "source": "## Import Lib",
   "id": "146c5baf89d87db8"
  },
  {
   "metadata": {
    "ExecuteTime": {
     "end_time": "2025-04-15T02:11:54.136214Z",
     "start_time": "2025-04-15T02:11:54.131552Z"
    }
   },
   "cell_type": "code",
   "source": [
    "import pandas as pd\n",
    "import numpy as np\n",
    "import matplotlib.pyplot as plt\n",
    "\n",
    "from sklearn.model_selection import train_test_split, GridSearchCV, RandomizedSearchCV\n",
    "from sklearn.metrics import (\n",
    "    roc_auc_score,\n",
    "    accuracy_score,\n",
    "    precision_score,\n",
    "    recall_score,\n",
    "    f1_score,\n",
    "    classification_report\n",
    ")\n",
    "\n",
    "from sklearn.ensemble import StackingClassifier, RandomForestClassifier\n",
    "from sklearn.linear_model import LogisticRegression\n",
    "\n",
    "from scipy.stats import randint\n",
    "\n",
    "from xgboost import XGBClassifier\n",
    "\n",
    "print(\"✅ Import successfully\")"
   ],
   "id": "56139691bd31e7ad",
   "outputs": [
    {
     "name": "stdout",
     "output_type": "stream",
     "text": [
      "✅ Import successfully\n"
     ]
    }
   ],
   "execution_count": 14
  },
  {
   "metadata": {},
   "cell_type": "markdown",
   "source": "## Load data",
   "id": "5e7b02fae9a6f15b"
  },
  {
   "metadata": {
    "ExecuteTime": {
     "end_time": "2025-04-15T02:12:18.178168Z",
     "start_time": "2025-04-15T02:12:10.567677Z"
    }
   },
   "cell_type": "code",
   "source": [
    "df = pd.read_csv(\"./dataset/creditcard.csv\")\n",
    "X = df.drop(columns=['Class'])\n",
    "y = df['Class']\n",
    "df.info()\n"
   ],
   "id": "93b3cd9b721d696",
   "outputs": [
    {
     "name": "stdout",
     "output_type": "stream",
     "text": [
      "<class 'pandas.core.frame.DataFrame'>\n",
      "RangeIndex: 284807 entries, 0 to 284806\n",
      "Data columns (total 31 columns):\n",
      " #   Column  Non-Null Count   Dtype  \n",
      "---  ------  --------------   -----  \n",
      " 0   Time    284807 non-null  float64\n",
      " 1   V1      284807 non-null  float64\n",
      " 2   V2      284807 non-null  float64\n",
      " 3   V3      284807 non-null  float64\n",
      " 4   V4      284807 non-null  float64\n",
      " 5   V5      284807 non-null  float64\n",
      " 6   V6      284807 non-null  float64\n",
      " 7   V7      284807 non-null  float64\n",
      " 8   V8      284807 non-null  float64\n",
      " 9   V9      284807 non-null  float64\n",
      " 10  V10     284807 non-null  float64\n",
      " 11  V11     284807 non-null  float64\n",
      " 12  V12     284807 non-null  float64\n",
      " 13  V13     284807 non-null  float64\n",
      " 14  V14     284807 non-null  float64\n",
      " 15  V15     284807 non-null  float64\n",
      " 16  V16     284807 non-null  float64\n",
      " 17  V17     284807 non-null  float64\n",
      " 18  V18     284807 non-null  float64\n",
      " 19  V19     284807 non-null  float64\n",
      " 20  V20     284807 non-null  float64\n",
      " 21  V21     284807 non-null  float64\n",
      " 22  V22     284807 non-null  float64\n",
      " 23  V23     284807 non-null  float64\n",
      " 24  V24     284807 non-null  float64\n",
      " 25  V25     284807 non-null  float64\n",
      " 26  V26     284807 non-null  float64\n",
      " 27  V27     284807 non-null  float64\n",
      " 28  V28     284807 non-null  float64\n",
      " 29  Amount  284807 non-null  float64\n",
      " 30  Class   284807 non-null  int64  \n",
      "dtypes: float64(30), int64(1)\n",
      "memory usage: 67.4 MB\n"
     ]
    }
   ],
   "execution_count": 15
  },
  {
   "metadata": {},
   "cell_type": "markdown",
   "source": "##  Split Train/Valid/Test data",
   "id": "8e8e8fab5d6388e5"
  },
  {
   "metadata": {
    "ExecuteTime": {
     "end_time": "2025-04-15T02:12:37.272690Z",
     "start_time": "2025-04-15T02:12:36.909531Z"
    }
   },
   "cell_type": "code",
   "source": [
    "# 2. Tách train / validation / test\n",
    "X_trainval, X_test, y_trainval, y_test = train_test_split(\n",
    "    X, y, test_size=0.2,  stratify=y, random_state=42\n",
    ")\n",
    "\n",
    "X_train, X_val, y_train, y_val = train_test_split(\n",
    "    X_trainval, y_trainval, test_size=0.25, stratify=y_trainval, random_state=42\n",
    ")\n",
    "# (60% train, 20% val, 20% test)\n",
    "print(\"✅ Split data success\")"
   ],
   "id": "4615eee40a73d43c",
   "outputs": [
    {
     "name": "stdout",
     "output_type": "stream",
     "text": [
      "✅ Split data success\n"
     ]
    }
   ],
   "execution_count": 16
  },
  {
   "metadata": {},
   "cell_type": "markdown",
   "source": "## XGBoost Model",
   "id": "7cb05ccaf0c7227c"
  },
  {
   "metadata": {},
   "cell_type": "markdown",
   "source": "### Valid hyperparameter",
   "id": "20e5077fd0884ee1"
  },
  {
   "metadata": {
    "ExecuteTime": {
     "end_time": "2025-04-15T02:13:45.260863Z",
     "start_time": "2025-04-15T02:13:35.302459Z"
    }
   },
   "cell_type": "code",
   "source": [
    "max_depths = range(2,10)\n",
    "best_model = None\n",
    "best_auc = 0\n",
    "best_depth = None\n",
    "\n",
    "auc_scores = []\n",
    "\n",
    "for depth in max_depths:\n",
    "    model = XGBClassifier(\n",
    "        max_depth=depth,\n",
    "        scale_pos_weight=(y_train == 0).sum() / (y_train == 1).sum(),\n",
    "        eval_metric='auc',\n",
    "        use_label_encoder=False,\n",
    "        random_state=42\n",
    "    )\n",
    "    model.fit(X_train, y_train)\n",
    "    val_pred = model.predict_proba(X_val)[:, 1]\n",
    "    auc = roc_auc_score(y_val, val_pred)\n",
    "    print(f\"[max_depth={depth}] Validation AUC: {auc:.4f}\")\n",
    "\n",
    "    auc_scores = auc_scores + [auc]\n",
    "    if auc > best_auc:\n",
    "        best_auc = auc\n",
    "        best_model = model\n",
    "        best_depth = depth\n",
    "\n",
    "# 4. Vẽ biểu đồ AUC theo max_depth\n",
    "plt.figure(figsize=(8, 5))\n",
    "plt.plot(max_depths, auc_scores, marker='o', color='blue')\n",
    "plt.title(\"AUC theo max_depth\")\n",
    "plt.xlabel(\"max_depth\")\n",
    "plt.ylabel(\"Validation AUC\")\n",
    "plt.xticks(max_depths)\n",
    "plt.grid(True)\n",
    "plt.tight_layout()\n",
    "plt.show()\n",
    "\n",
    "print(f\"\\n✅ Best model: max_depth={best_depth}, AUC={best_auc:.4f}\")"
   ],
   "id": "4293a1c004a899e7",
   "outputs": [
    {
     "name": "stderr",
     "output_type": "stream",
     "text": [
      "D:\\MyProject\\python-tool\\.venv\\Lib\\site-packages\\xgboost\\training.py:183: UserWarning: [09:13:35] WARNING: C:\\actions-runner\\_work\\xgboost\\xgboost\\src\\learner.cc:738: \n",
      "Parameters: { \"use_label_encoder\" } are not used.\n",
      "\n",
      "  bst.update(dtrain, iteration=i, fobj=obj)\n"
     ]
    },
    {
     "name": "stdout",
     "output_type": "stream",
     "text": [
      "[max_depth=2] Validation AUC: 0.9711\n"
     ]
    },
    {
     "name": "stderr",
     "output_type": "stream",
     "text": [
      "D:\\MyProject\\python-tool\\.venv\\Lib\\site-packages\\xgboost\\training.py:183: UserWarning: [09:13:37] WARNING: C:\\actions-runner\\_work\\xgboost\\xgboost\\src\\learner.cc:738: \n",
      "Parameters: { \"use_label_encoder\" } are not used.\n",
      "\n",
      "  bst.update(dtrain, iteration=i, fobj=obj)\n"
     ]
    },
    {
     "name": "stdout",
     "output_type": "stream",
     "text": [
      "[max_depth=3] Validation AUC: 0.9711\n"
     ]
    },
    {
     "name": "stderr",
     "output_type": "stream",
     "text": [
      "D:\\MyProject\\python-tool\\.venv\\Lib\\site-packages\\xgboost\\training.py:183: UserWarning: [09:13:38] WARNING: C:\\actions-runner\\_work\\xgboost\\xgboost\\src\\learner.cc:738: \n",
      "Parameters: { \"use_label_encoder\" } are not used.\n",
      "\n",
      "  bst.update(dtrain, iteration=i, fobj=obj)\n"
     ]
    },
    {
     "name": "stdout",
     "output_type": "stream",
     "text": [
      "[max_depth=4] Validation AUC: 0.9701\n"
     ]
    },
    {
     "name": "stderr",
     "output_type": "stream",
     "text": [
      "D:\\MyProject\\python-tool\\.venv\\Lib\\site-packages\\xgboost\\training.py:183: UserWarning: [09:13:39] WARNING: C:\\actions-runner\\_work\\xgboost\\xgboost\\src\\learner.cc:738: \n",
      "Parameters: { \"use_label_encoder\" } are not used.\n",
      "\n",
      "  bst.update(dtrain, iteration=i, fobj=obj)\n"
     ]
    },
    {
     "name": "stdout",
     "output_type": "stream",
     "text": [
      "[max_depth=5] Validation AUC: 0.9701\n"
     ]
    },
    {
     "name": "stderr",
     "output_type": "stream",
     "text": [
      "D:\\MyProject\\python-tool\\.venv\\Lib\\site-packages\\xgboost\\training.py:183: UserWarning: [09:13:40] WARNING: C:\\actions-runner\\_work\\xgboost\\xgboost\\src\\learner.cc:738: \n",
      "Parameters: { \"use_label_encoder\" } are not used.\n",
      "\n",
      "  bst.update(dtrain, iteration=i, fobj=obj)\n"
     ]
    },
    {
     "name": "stdout",
     "output_type": "stream",
     "text": [
      "[max_depth=6] Validation AUC: 0.9691\n"
     ]
    },
    {
     "name": "stderr",
     "output_type": "stream",
     "text": [
      "D:\\MyProject\\python-tool\\.venv\\Lib\\site-packages\\xgboost\\training.py:183: UserWarning: [09:13:41] WARNING: C:\\actions-runner\\_work\\xgboost\\xgboost\\src\\learner.cc:738: \n",
      "Parameters: { \"use_label_encoder\" } are not used.\n",
      "\n",
      "  bst.update(dtrain, iteration=i, fobj=obj)\n"
     ]
    },
    {
     "name": "stdout",
     "output_type": "stream",
     "text": [
      "[max_depth=7] Validation AUC: 0.9631\n"
     ]
    },
    {
     "name": "stderr",
     "output_type": "stream",
     "text": [
      "D:\\MyProject\\python-tool\\.venv\\Lib\\site-packages\\xgboost\\training.py:183: UserWarning: [09:13:42] WARNING: C:\\actions-runner\\_work\\xgboost\\xgboost\\src\\learner.cc:738: \n",
      "Parameters: { \"use_label_encoder\" } are not used.\n",
      "\n",
      "  bst.update(dtrain, iteration=i, fobj=obj)\n"
     ]
    },
    {
     "name": "stdout",
     "output_type": "stream",
     "text": [
      "[max_depth=8] Validation AUC: 0.9649\n"
     ]
    },
    {
     "name": "stderr",
     "output_type": "stream",
     "text": [
      "D:\\MyProject\\python-tool\\.venv\\Lib\\site-packages\\xgboost\\training.py:183: UserWarning: [09:13:43] WARNING: C:\\actions-runner\\_work\\xgboost\\xgboost\\src\\learner.cc:738: \n",
      "Parameters: { \"use_label_encoder\" } are not used.\n",
      "\n",
      "  bst.update(dtrain, iteration=i, fobj=obj)\n"
     ]
    },
    {
     "name": "stdout",
     "output_type": "stream",
     "text": [
      "[max_depth=9] Validation AUC: 0.9684\n"
     ]
    },
    {
     "data": {
      "text/plain": [
       "<Figure size 800x500 with 1 Axes>"
      ],
      "image/png": "[encoded data removed]"
     },
     "metadata": {},
     "output_type": "display_data"
    },
    {
     "name": "stdout",
     "output_type": "stream",
     "text": [
      "\n",
      "✅ Best model: max_depth=3, AUC=0.9711\n"
     ]
    }
   ],
   "execution_count": 18
  },
  {
   "metadata": {},
   "cell_type": "markdown",
   "source": "### Test Model & Find best threshold",
   "id": "2f2587932dfb91d8"
  },
  {
   "metadata": {
    "ExecuteTime": {
     "end_time": "2025-04-15T02:13:57.509315Z",
     "start_time": "2025-04-15T02:13:55.304465Z"
    }
   },
   "cell_type": "code",
   "source": [
    "# Dự đoán xác suất trên test set\n",
    "test_pred = best_model.predict_proba(X_test)[:, 1]\n",
    "\n",
    "# Tạo danh sách các threshold từ 0.0 đến 1.0 (bước 0.05)\n",
    "thresholds = np.arange(0.4, 1, 0.005)\n",
    "results = []\n",
    "\n",
    "# Tính accuracy cho mỗi threshold\n",
    "for threshold in thresholds:\n",
    "    preds_binary = (test_pred >= threshold).astype(int)\n",
    "    acc = accuracy_score(y_test, preds_binary)\n",
    "    prec = precision_score(y_test, preds_binary, zero_division=0)\n",
    "    rec = recall_score(y_test, preds_binary)\n",
    "    f1 = f1_score(y_test, preds_binary)\n",
    "    results.append({\n",
    "        \"threshold\": threshold,\n",
    "        \"accuracy\": acc,\n",
    "        \"precision\": prec,\n",
    "        \"recall\": rec,\n",
    "        \"f1_score\": f1\n",
    "    })\n",
    "\n",
    "# Chuyển thành DataFrame\n",
    "df_result = pd.DataFrame(results)\n",
    "\n",
    "# Tìm threshold có F1-score cao nhất\n",
    "best_row = df_result.loc[df_result['f1_score'].idxmax()]\n",
    "print(f\"✅ Threshold tốt nhất theo F1-score: {best_row['threshold']:.4f}\")\n",
    "print(best_row)\n"
   ],
   "id": "1560e97d2db4915d",
   "outputs": [
    {
     "name": "stdout",
     "output_type": "stream",
     "text": [
      "✅ Threshold tốt nhất theo F1-score: 0.7350\n",
      "threshold    0.735000\n",
      "accuracy     0.999386\n",
      "precision    0.824742\n",
      "recall       0.816327\n",
      "f1_score     0.820513\n",
      "Name: 67, dtype: float64\n"
     ]
    }
   ],
   "execution_count": 19
  },
  {
   "metadata": {
    "ExecuteTime": {
     "end_time": "2025-04-15T02:14:06.655012Z",
     "start_time": "2025-04-15T02:14:06.363927Z"
    }
   },
   "cell_type": "code",
   "source": [
    "# 🎨 Vẽ biểu đồ F1 theo Threshold\n",
    "plt.figure(figsize=(10, 6))\n",
    "plt.plot(df_result[\"threshold\"], df_result[\"f1_score\"], label=\"F1-score\", marker='o')\n",
    "plt.plot(df_result[\"threshold\"], df_result[\"precision\"], label=\"Precision\", linestyle='--')\n",
    "plt.plot(df_result[\"threshold\"], df_result[\"recall\"], label=\"Recall\", linestyle='--')\n",
    "plt.xlabel(\"Threshold\")\n",
    "plt.ylabel(\"Score\")\n",
    "plt.title(\"Precision / Recall / F1-score theo Threshold\")\n",
    "plt.legend()\n",
    "plt.grid(True)\n",
    "plt.tight_layout()\n",
    "plt.show()"
   ],
   "id": "ed5563a9a6a69c5",
   "outputs": [
    {
     "data": {
      "text/plain": [
       "<Figure size 1000x600 with 1 Axes>"
      ],
      "image/png": "[encoded data removed]"
     },
     "metadata": {},
     "output_type": "display_data"
    }
   ],
   "execution_count": 20
  },
  {
   "metadata": {
    "ExecuteTime": {
     "end_time": "2025-04-10T10:39:23.261710Z",
     "start_time": "2025-04-10T10:39:23.252792Z"
    }
   },
   "cell_type": "code",
   "source": "df_result",
   "id": "43ea8cbf9be9a498",
   "outputs": [
    {
     "data": {
      "text/plain": [
       "     threshold  accuracy  precision    recall  f1_score\n",
       "0        0.005  0.965486   0.043500  0.908163  0.083022\n",
       "1        0.010  0.979126   0.070134  0.908163  0.130212\n",
       "2        0.015  0.984235   0.091002  0.908163  0.165428\n",
       "3        0.020  0.987711   0.113111  0.897959  0.200913\n",
       "4        0.025  0.989783   0.133333  0.897959  0.232190\n",
       "..         ...       ...        ...       ...       ...\n",
       "197      0.990  0.999386   0.909091  0.714286  0.800000\n",
       "198      0.995  0.999403   0.944444  0.693878  0.800000\n",
       "199      1.000  0.998280   0.000000  0.000000  0.000000\n",
       "200      1.005  0.998280   0.000000  0.000000  0.000000\n",
       "201      1.010  0.998280   0.000000  0.000000  0.000000\n",
       "\n",
       "[202 rows x 5 columns]"
      ],
      "text/html": [
       "<div>\n",
       "<style scoped>\n",
       "    .dataframe tbody tr th:only-of-type {\n",
       "        vertical-align: middle;\n",
       "    }\n",
       "\n",
       "    .dataframe tbody tr th {\n",
       "        vertical-align: top;\n",
       "    }\n",
       "\n",
       "    .dataframe thead th {\n",
       "        text-align: right;\n",
       "    }\n",
       "</style>\n",
       "<table border=\"1\" class=\"dataframe\">\n",
       "  <thead>\n",
       "    <tr style=\"text-align: right;\">\n",
       "      <th></th>\n",
       "      <th>threshold</th>\n",
       "      <th>accuracy</th>\n",
       "      <th>precision</th>\n",
       "      <th>recall</th>\n",
       "      <th>f1_score</th>\n",
       "    </tr>\n",
       "  </thead>\n",
       "  <tbody>\n",
       "    <tr>\n",
       "      <th>0</th>\n",
       "      <td>0.005</td>\n",
       "      <td>0.965486</td>\n",
       "      <td>0.043500</td>\n",
       "      <td>0.908163</td>\n",
       "      <td>0.083022</td>\n",
       "    </tr>\n",
       "    <tr>\n",
       "      <th>1</th>\n",
       "      <td>0.010</td>\n",
       "      <td>0.979126</td>\n",
       "      <td>0.070134</td>\n",
       "      <td>0.908163</td>\n",
       "      <td>0.130212</td>\n",
       "    </tr>\n",
       "    <tr>\n",
       "      <th>2</th>\n",
       "      <td>0.015</td>\n",
       "      <td>0.984235</td>\n",
       "      <td>0.091002</td>\n",
       "      <td>0.908163</td>\n",
       "      <td>0.165428</td>\n",
       "    </tr>\n",
       "    <tr>\n",
       "      <th>3</th>\n",
       "      <td>0.020</td>\n",
       "      <td>0.987711</td>\n",
       "      <td>0.113111</td>\n",
       "      <td>0.897959</td>\n",
       "      <td>0.200913</td>\n",
       "    </tr>\n",
       "    <tr>\n",
       "      <th>4</th>\n",
       "      <td>0.025</td>\n",
       "      <td>0.989783</td>\n",
       "      <td>0.133333</td>\n",
       "      <td>0.897959</td>\n",
       "      <td>0.232190</td>\n",
       "    </tr>\n",
       "    <tr>\n",
       "      <th>...</th>\n",
       "      <td>...</td>\n",
       "      <td>...</td>\n",
       "      <td>...</td>\n",
       "      <td>...</td>\n",
       "      <td>...</td>\n",
       "    </tr>\n",
       "    <tr>\n",
       "      <th>197</th>\n",
       "      <td>0.990</td>\n",
       "      <td>0.999386</td>\n",
       "      <td>0.909091</td>\n",
       "      <td>0.714286</td>\n",
       "      <td>0.800000</td>\n",
       "    </tr>\n",
       "    <tr>\n",
       "      <th>198</th>\n",
       "      <td>0.995</td>\n",
       "      <td>0.999403</td>\n",
       "      <td>0.944444</td>\n",
       "      <td>0.693878</td>\n",
       "      <td>0.800000</td>\n",
       "    </tr>\n",
       "    <tr>\n",
       "      <th>199</th>\n",
       "      <td>1.000</td>\n",
       "      <td>0.998280</td>\n",
       "      <td>0.000000</td>\n",
       "      <td>0.000000</td>\n",
       "      <td>0.000000</td>\n",
       "    </tr>\n",
       "    <tr>\n",
       "      <th>200</th>\n",
       "      <td>1.005</td>\n",
       "      <td>0.998280</td>\n",
       "      <td>0.000000</td>\n",
       "      <td>0.000000</td>\n",
       "      <td>0.000000</td>\n",
       "    </tr>\n",
       "    <tr>\n",
       "      <th>201</th>\n",
       "      <td>1.010</td>\n",
       "      <td>0.998280</td>\n",
       "      <td>0.000000</td>\n",
       "      <td>0.000000</td>\n",
       "      <td>0.000000</td>\n",
       "    </tr>\n",
       "  </tbody>\n",
       "</table>\n",
       "<p>202 rows × 5 columns</p>\n",
       "</div>"
      ]
     },
     "execution_count": 55,
     "metadata": {},
     "output_type": "execute_result"
    }
   ],
   "execution_count": 55
  },
  {
   "metadata": {
    "ExecuteTime": {
     "end_time": "2025-04-11T02:20:57.519025Z",
     "start_time": "2025-04-11T02:20:57.505211Z"
    }
   },
   "cell_type": "code",
   "source": [
    "rs_test = pd.Series(test_pred, name = 'test_pred').round(4)\n",
    "rs_test[rs_test > best_row[\"threshold\"]]\n",
    "# rs_test"
   ],
   "id": "ef8dbe7c447fa148",
   "outputs": [
    {
     "data": {
      "text/plain": [
       "165      0.9992\n",
       "840      0.9999\n",
       "1146     1.0000\n",
       "2777     0.9818\n",
       "3123     0.9930\n",
       "          ...  \n",
       "54894    0.9992\n",
       "54930    0.9997\n",
       "55014    0.9878\n",
       "55071    1.0000\n",
       "56421    0.9884\n",
       "Name: test_pred, Length: 97, dtype: float32"
      ]
     },
     "execution_count": 76,
     "metadata": {},
     "output_type": "execute_result"
    }
   ],
   "execution_count": 76
  },
  {
   "metadata": {},
   "cell_type": "markdown",
   "source": "## Stacking: XGBoost, LogisticRegression, RandomForest, LogisticRegression ",
   "id": "9222158bbe1a9ccc"
  },
  {
   "metadata": {},
   "cell_type": "markdown",
   "source": "### Find Best XGBoost",
   "id": "32bd069c205826d4"
  },
  {
   "metadata": {
    "ExecuteTime": {
     "end_time": "2025-04-15T02:18:06.463550Z",
     "start_time": "2025-04-15T02:16:22.639730Z"
    }
   },
   "cell_type": "code",
   "source": [
    "param_dist = {\n",
    "    'max_depth': randint(3, 10),\n",
    "    'n_estimators': randint(100, 300),\n",
    "    'scale_pos_weight': randint(50, 150)\n",
    "}\n",
    "\n",
    "xgb_base = XGBClassifier(eval_metric='auc', use_label_encoder=False, n_jobs=1)\n",
    "\n",
    "random_search = RandomizedSearchCV(\n",
    "    estimator=xgb_base,\n",
    "    param_distributions=param_dist,\n",
    "    n_iter=10,\n",
    "    scoring='f1',\n",
    "    cv=3,\n",
    "    verbose=1,\n",
    "    n_jobs=1,\n",
    "    random_state=42\n",
    ")\n",
    "random_search.fit(X_train, y_train)\n",
    "\n",
    "best_xgb = random_search.best_estimator_\n",
    "print(\"✅ Best XGB params:\", random_search.best_params_)\n"
   ],
   "id": "8ed86b014da5c330",
   "outputs": [
    {
     "name": "stdout",
     "output_type": "stream",
     "text": [
      "Fitting 3 folds for each of 10 candidates, totalling 30 fits\n"
     ]
    },
    {
     "name": "stderr",
     "output_type": "stream",
     "text": [
      "D:\\MyProject\\python-tool\\.venv\\Lib\\site-packages\\xgboost\\training.py:183: UserWarning: [09:16:23] WARNING: C:\\actions-runner\\_work\\xgboost\\xgboost\\src\\learner.cc:738: \n",
      "Parameters: { \"use_label_encoder\" } are not used.\n",
      "\n",
      "  bst.update(dtrain, iteration=i, fobj=obj)\n",
      "D:\\MyProject\\python-tool\\.venv\\Lib\\site-packages\\xgboost\\training.py:183: UserWarning: [09:16:27] WARNING: C:\\actions-runner\\_work\\xgboost\\xgboost\\src\\learner.cc:738: \n",
      "Parameters: { \"use_label_encoder\" } are not used.\n",
      "\n",
      "  bst.update(dtrain, iteration=i, fobj=obj)\n",
      "D:\\MyProject\\python-tool\\.venv\\Lib\\site-packages\\xgboost\\training.py:183: UserWarning: [09:16:31] WARNING: C:\\actions-runner\\_work\\xgboost\\xgboost\\src\\learner.cc:738: \n",
      "Parameters: { \"use_label_encoder\" } are not used.\n",
      "\n",
      "  bst.update(dtrain, iteration=i, fobj=obj)\n",
      "D:\\MyProject\\python-tool\\.venv\\Lib\\site-packages\\xgboost\\training.py:183: UserWarning: [09:16:35] WARNING: C:\\actions-runner\\_work\\xgboost\\xgboost\\src\\learner.cc:738: \n",
      "Parameters: { \"use_label_encoder\" } are not used.\n",
      "\n",
      "  bst.update(dtrain, iteration=i, fobj=obj)\n",
      "D:\\MyProject\\python-tool\\.venv\\Lib\\site-packages\\xgboost\\training.py:183: UserWarning: [09:16:39] WARNING: C:\\actions-runner\\_work\\xgboost\\xgboost\\src\\learner.cc:738: \n",
      "Parameters: { \"use_label_encoder\" } are not used.\n",
      "\n",
      "  bst.update(dtrain, iteration=i, fobj=obj)\n",
      "D:\\MyProject\\python-tool\\.venv\\Lib\\site-packages\\xgboost\\training.py:183: UserWarning: [09:16:42] WARNING: C:\\actions-runner\\_work\\xgboost\\xgboost\\src\\learner.cc:738: \n",
      "Parameters: { \"use_label_encoder\" } are not used.\n",
      "\n",
      "  bst.update(dtrain, iteration=i, fobj=obj)\n",
      "D:\\MyProject\\python-tool\\.venv\\Lib\\site-packages\\xgboost\\training.py:183: UserWarning: [09:16:45] WARNING: C:\\actions-runner\\_work\\xgboost\\xgboost\\src\\learner.cc:738: \n",
      "Parameters: { \"use_label_encoder\" } are not used.\n",
      "\n",
      "  bst.update(dtrain, iteration=i, fobj=obj)\n",
      "D:\\MyProject\\python-tool\\.venv\\Lib\\site-packages\\xgboost\\training.py:183: UserWarning: [09:16:47] WARNING: C:\\actions-runner\\_work\\xgboost\\xgboost\\src\\learner.cc:738: \n",
      "Parameters: { \"use_label_encoder\" } are not used.\n",
      "\n",
      "  bst.update(dtrain, iteration=i, fobj=obj)\n",
      "D:\\MyProject\\python-tool\\.venv\\Lib\\site-packages\\xgboost\\training.py:183: UserWarning: [09:16:50] WARNING: C:\\actions-runner\\_work\\xgboost\\xgboost\\src\\learner.cc:738: \n",
      "Parameters: { \"use_label_encoder\" } are not used.\n",
      "\n",
      "  bst.update(dtrain, iteration=i, fobj=obj)\n",
      "D:\\MyProject\\python-tool\\.venv\\Lib\\site-packages\\xgboost\\training.py:183: UserWarning: [09:16:52] WARNING: C:\\actions-runner\\_work\\xgboost\\xgboost\\src\\learner.cc:738: \n",
      "Parameters: { \"use_label_encoder\" } are not used.\n",
      "\n",
      "  bst.update(dtrain, iteration=i, fobj=obj)\n",
      "D:\\MyProject\\python-tool\\.venv\\Lib\\site-packages\\xgboost\\training.py:183: UserWarning: [09:16:55] WARNING: C:\\actions-runner\\_work\\xgboost\\xgboost\\src\\learner.cc:738: \n",
      "Parameters: { \"use_label_encoder\" } are not used.\n",
      "\n",
      "  bst.update(dtrain, iteration=i, fobj=obj)\n",
      "D:\\MyProject\\python-tool\\.venv\\Lib\\site-packages\\xgboost\\training.py:183: UserWarning: [09:16:58] WARNING: C:\\actions-runner\\_work\\xgboost\\xgboost\\src\\learner.cc:738: \n",
      "Parameters: { \"use_label_encoder\" } are not used.\n",
      "\n",
      "  bst.update(dtrain, iteration=i, fobj=obj)\n",
      "D:\\MyProject\\python-tool\\.venv\\Lib\\site-packages\\xgboost\\training.py:183: UserWarning: [09:17:01] WARNING: C:\\actions-runner\\_work\\xgboost\\xgboost\\src\\learner.cc:738: \n",
      "Parameters: { \"use_label_encoder\" } are not used.\n",
      "\n",
      "  bst.update(dtrain, iteration=i, fobj=obj)\n",
      "D:\\MyProject\\python-tool\\.venv\\Lib\\site-packages\\xgboost\\training.py:183: UserWarning: [09:17:04] WARNING: C:\\actions-runner\\_work\\xgboost\\xgboost\\src\\learner.cc:738: \n",
      "Parameters: { \"use_label_encoder\" } are not used.\n",
      "\n",
      "  bst.update(dtrain, iteration=i, fobj=obj)\n",
      "D:\\MyProject\\python-tool\\.venv\\Lib\\site-packages\\xgboost\\training.py:183: UserWarning: [09:17:08] WARNING: C:\\actions-runner\\_work\\xgboost\\xgboost\\src\\learner.cc:738: \n",
      "Parameters: { \"use_label_encoder\" } are not used.\n",
      "\n",
      "  bst.update(dtrain, iteration=i, fobj=obj)\n",
      "D:\\MyProject\\python-tool\\.venv\\Lib\\site-packages\\xgboost\\training.py:183: UserWarning: [09:17:11] WARNING: C:\\actions-runner\\_work\\xgboost\\xgboost\\src\\learner.cc:738: \n",
      "Parameters: { \"use_label_encoder\" } are not used.\n",
      "\n",
      "  bst.update(dtrain, iteration=i, fobj=obj)\n",
      "D:\\MyProject\\python-tool\\.venv\\Lib\\site-packages\\xgboost\\training.py:183: UserWarning: [09:17:14] WARNING: C:\\actions-runner\\_work\\xgboost\\xgboost\\src\\learner.cc:738: \n",
      "Parameters: { \"use_label_encoder\" } are not used.\n",
      "\n",
      "  bst.update(dtrain, iteration=i, fobj=obj)\n",
      "D:\\MyProject\\python-tool\\.venv\\Lib\\site-packages\\xgboost\\training.py:183: UserWarning: [09:17:19] WARNING: C:\\actions-runner\\_work\\xgboost\\xgboost\\src\\learner.cc:738: \n",
      "Parameters: { \"use_label_encoder\" } are not used.\n",
      "\n",
      "  bst.update(dtrain, iteration=i, fobj=obj)\n",
      "D:\\MyProject\\python-tool\\.venv\\Lib\\site-packages\\xgboost\\training.py:183: UserWarning: [09:17:22] WARNING: C:\\actions-runner\\_work\\xgboost\\xgboost\\src\\learner.cc:738: \n",
      "Parameters: { \"use_label_encoder\" } are not used.\n",
      "\n",
      "  bst.update(dtrain, iteration=i, fobj=obj)\n",
      "D:\\MyProject\\python-tool\\.venv\\Lib\\site-packages\\xgboost\\training.py:183: UserWarning: [09:17:26] WARNING: C:\\actions-runner\\_work\\xgboost\\xgboost\\src\\learner.cc:738: \n",
      "Parameters: { \"use_label_encoder\" } are not used.\n",
      "\n",
      "  bst.update(dtrain, iteration=i, fobj=obj)\n",
      "D:\\MyProject\\python-tool\\.venv\\Lib\\site-packages\\xgboost\\training.py:183: UserWarning: [09:17:29] WARNING: C:\\actions-runner\\_work\\xgboost\\xgboost\\src\\learner.cc:738: \n",
      "Parameters: { \"use_label_encoder\" } are not used.\n",
      "\n",
      "  bst.update(dtrain, iteration=i, fobj=obj)\n",
      "D:\\MyProject\\python-tool\\.venv\\Lib\\site-packages\\xgboost\\training.py:183: UserWarning: [09:17:32] WARNING: C:\\actions-runner\\_work\\xgboost\\xgboost\\src\\learner.cc:738: \n",
      "Parameters: { \"use_label_encoder\" } are not used.\n",
      "\n",
      "  bst.update(dtrain, iteration=i, fobj=obj)\n",
      "D:\\MyProject\\python-tool\\.venv\\Lib\\site-packages\\xgboost\\training.py:183: UserWarning: [09:17:35] WARNING: C:\\actions-runner\\_work\\xgboost\\xgboost\\src\\learner.cc:738: \n",
      "Parameters: { \"use_label_encoder\" } are not used.\n",
      "\n",
      "  bst.update(dtrain, iteration=i, fobj=obj)\n",
      "D:\\MyProject\\python-tool\\.venv\\Lib\\site-packages\\xgboost\\training.py:183: UserWarning: [09:17:40] WARNING: C:\\actions-runner\\_work\\xgboost\\xgboost\\src\\learner.cc:738: \n",
      "Parameters: { \"use_label_encoder\" } are not used.\n",
      "\n",
      "  bst.update(dtrain, iteration=i, fobj=obj)\n",
      "D:\\MyProject\\python-tool\\.venv\\Lib\\site-packages\\xgboost\\training.py:183: UserWarning: [09:17:44] WARNING: C:\\actions-runner\\_work\\xgboost\\xgboost\\src\\learner.cc:738: \n",
      "Parameters: { \"use_label_encoder\" } are not used.\n",
      "\n",
      "  bst.update(dtrain, iteration=i, fobj=obj)\n",
      "D:\\MyProject\\python-tool\\.venv\\Lib\\site-packages\\xgboost\\training.py:183: UserWarning: [09:17:46] WARNING: C:\\actions-runner\\_work\\xgboost\\xgboost\\src\\learner.cc:738: \n",
      "Parameters: { \"use_label_encoder\" } are not used.\n",
      "\n",
      "  bst.update(dtrain, iteration=i, fobj=obj)\n",
      "D:\\MyProject\\python-tool\\.venv\\Lib\\site-packages\\xgboost\\training.py:183: UserWarning: [09:17:49] WARNING: C:\\actions-runner\\_work\\xgboost\\xgboost\\src\\learner.cc:738: \n",
      "Parameters: { \"use_label_encoder\" } are not used.\n",
      "\n",
      "  bst.update(dtrain, iteration=i, fobj=obj)\n",
      "D:\\MyProject\\python-tool\\.venv\\Lib\\site-packages\\xgboost\\training.py:183: UserWarning: [09:17:52] WARNING: C:\\actions-runner\\_work\\xgboost\\xgboost\\src\\learner.cc:738: \n",
      "Parameters: { \"use_label_encoder\" } are not used.\n",
      "\n",
      "  bst.update(dtrain, iteration=i, fobj=obj)\n",
      "D:\\MyProject\\python-tool\\.venv\\Lib\\site-packages\\xgboost\\training.py:183: UserWarning: [09:17:55] WARNING: C:\\actions-runner\\_work\\xgboost\\xgboost\\src\\learner.cc:738: \n",
      "Parameters: { \"use_label_encoder\" } are not used.\n",
      "\n",
      "  bst.update(dtrain, iteration=i, fobj=obj)\n",
      "D:\\MyProject\\python-tool\\.venv\\Lib\\site-packages\\xgboost\\training.py:183: UserWarning: [09:17:59] WARNING: C:\\actions-runner\\_work\\xgboost\\xgboost\\src\\learner.cc:738: \n",
      "Parameters: { \"use_label_encoder\" } are not used.\n",
      "\n",
      "  bst.update(dtrain, iteration=i, fobj=obj)\n",
      "D:\\MyProject\\python-tool\\.venv\\Lib\\site-packages\\xgboost\\training.py:183: UserWarning: [09:18:03] WARNING: C:\\actions-runner\\_work\\xgboost\\xgboost\\src\\learner.cc:738: \n",
      "Parameters: { \"use_label_encoder\" } are not used.\n",
      "\n",
      "  bst.update(dtrain, iteration=i, fobj=obj)\n"
     ]
    },
    {
     "name": "stdout",
     "output_type": "stream",
     "text": [
      "✅ Best XGB params: {'max_depth': 6, 'n_estimators': 157, 'scale_pos_weight': 71}\n"
     ]
    }
   ],
   "execution_count": 21
  },
  {
   "metadata": {},
   "cell_type": "markdown",
   "source": "### Training & Test Stack model",
   "id": "72e9b6e522ecdc0f"
  },
  {
   "metadata": {
    "ExecuteTime": {
     "end_time": "2025-04-15T02:56:53.226178Z",
     "start_time": "2025-04-15T02:43:20.351011Z"
    }
   },
   "cell_type": "code",
   "source": [
    "base_models = [\n",
    "    ('xgb', best_xgb),\n",
    "    ('rf', RandomForestClassifier(n_estimators=100, random_state=42)),\n",
    "    ('lr', LogisticRegression(max_iter=1000))\n",
    "]\n",
    "\n",
    "meta_model = LogisticRegression(max_iter=1000)\n",
    "\n",
    "stack_model = StackingClassifier(\n",
    "    estimators=base_models,\n",
    "    final_estimator=meta_model,\n",
    "    cv=5\n",
    ")\n",
    "\n",
    "# Huấn luyện stacking\n",
    "stack_model.fit(X_train, y_train)\n",
    "\n",
    "# Dự đoán xác suất\n",
    "y_proba = stack_model.predict_proba(X_test)[:, 1]\n",
    "\n",
    "print(\"✅ Training data success\")\n"
   ],
   "id": "2b1ae08267a1c877",
   "outputs": [
    {
     "name": "stderr",
     "output_type": "stream",
     "text": [
      "D:\\MyProject\\python-tool\\.venv\\Lib\\site-packages\\xgboost\\training.py:183: UserWarning: [09:43:21] WARNING: C:\\actions-runner\\_work\\xgboost\\xgboost\\src\\learner.cc:738: \n",
      "Parameters: { \"use_label_encoder\" } are not used.\n",
      "\n",
      "  bst.update(dtrain, iteration=i, fobj=obj)\n",
      "D:\\MyProject\\python-tool\\.venv\\Lib\\site-packages\\sklearn\\linear_model\\_logistic.py:465: ConvergenceWarning: lbfgs failed to converge (status=1):\n",
      "STOP: TOTAL NO. OF ITERATIONS REACHED LIMIT.\n",
      "\n",
      "Increase the number of iterations (max_iter) or scale the data as shown in:\n",
      "    https://scikit-learn.org/stable/modules/preprocessing.html\n",
      "Please also refer to the documentation for alternative solver options:\n",
      "    https://scikit-learn.org/stable/modules/linear_model.html#logistic-regression\n",
      "  n_iter_i = _check_optimize_result(\n",
      "D:\\MyProject\\python-tool\\.venv\\Lib\\site-packages\\xgboost\\training.py:183: UserWarning: [09:46:28] WARNING: C:\\actions-runner\\_work\\xgboost\\xgboost\\src\\learner.cc:738: \n",
      "Parameters: { \"use_label_encoder\" } are not used.\n",
      "\n",
      "  bst.update(dtrain, iteration=i, fobj=obj)\n",
      "D:\\MyProject\\python-tool\\.venv\\Lib\\site-packages\\xgboost\\training.py:183: UserWarning: [09:46:31] WARNING: C:\\actions-runner\\_work\\xgboost\\xgboost\\src\\learner.cc:738: \n",
      "Parameters: { \"use_label_encoder\" } are not used.\n",
      "\n",
      "  bst.update(dtrain, iteration=i, fobj=obj)\n",
      "D:\\MyProject\\python-tool\\.venv\\Lib\\site-packages\\xgboost\\training.py:183: UserWarning: [09:46:34] WARNING: C:\\actions-runner\\_work\\xgboost\\xgboost\\src\\learner.cc:738: \n",
      "Parameters: { \"use_label_encoder\" } are not used.\n",
      "\n",
      "  bst.update(dtrain, iteration=i, fobj=obj)\n",
      "D:\\MyProject\\python-tool\\.venv\\Lib\\site-packages\\xgboost\\training.py:183: UserWarning: [09:46:38] WARNING: C:\\actions-runner\\_work\\xgboost\\xgboost\\src\\learner.cc:738: \n",
      "Parameters: { \"use_label_encoder\" } are not used.\n",
      "\n",
      "  bst.update(dtrain, iteration=i, fobj=obj)\n",
      "D:\\MyProject\\python-tool\\.venv\\Lib\\site-packages\\xgboost\\training.py:183: UserWarning: [09:46:41] WARNING: C:\\actions-runner\\_work\\xgboost\\xgboost\\src\\learner.cc:738: \n",
      "Parameters: { \"use_label_encoder\" } are not used.\n",
      "\n",
      "  bst.update(dtrain, iteration=i, fobj=obj)\n",
      "D:\\MyProject\\python-tool\\.venv\\Lib\\site-packages\\sklearn\\linear_model\\_logistic.py:465: ConvergenceWarning: lbfgs failed to converge (status=1):\n",
      "STOP: TOTAL NO. OF ITERATIONS REACHED LIMIT.\n",
      "\n",
      "Increase the number of iterations (max_iter) or scale the data as shown in:\n",
      "    https://scikit-learn.org/stable/modules/preprocessing.html\n",
      "Please also refer to the documentation for alternative solver options:\n",
      "    https://scikit-learn.org/stable/modules/linear_model.html#logistic-regression\n",
      "  n_iter_i = _check_optimize_result(\n",
      "D:\\MyProject\\python-tool\\.venv\\Lib\\site-packages\\sklearn\\linear_model\\_logistic.py:465: ConvergenceWarning: lbfgs failed to converge (status=1):\n",
      "STOP: TOTAL NO. OF ITERATIONS REACHED LIMIT.\n",
      "\n",
      "Increase the number of iterations (max_iter) or scale the data as shown in:\n",
      "    https://scikit-learn.org/stable/modules/preprocessing.html\n",
      "Please also refer to the documentation for alternative solver options:\n",
      "    https://scikit-learn.org/stable/modules/linear_model.html#logistic-regression\n",
      "  n_iter_i = _check_optimize_result(\n",
      "D:\\MyProject\\python-tool\\.venv\\Lib\\site-packages\\sklearn\\linear_model\\_logistic.py:465: ConvergenceWarning: lbfgs failed to converge (status=1):\n",
      "STOP: TOTAL NO. OF ITERATIONS REACHED LIMIT.\n",
      "\n",
      "Increase the number of iterations (max_iter) or scale the data as shown in:\n",
      "    https://scikit-learn.org/stable/modules/preprocessing.html\n",
      "Please also refer to the documentation for alternative solver options:\n",
      "    https://scikit-learn.org/stable/modules/linear_model.html#logistic-regression\n",
      "  n_iter_i = _check_optimize_result(\n",
      "D:\\MyProject\\python-tool\\.venv\\Lib\\site-packages\\sklearn\\linear_model\\_logistic.py:465: ConvergenceWarning: lbfgs failed to converge (status=1):\n",
      "STOP: TOTAL NO. OF ITERATIONS REACHED LIMIT.\n",
      "\n",
      "Increase the number of iterations (max_iter) or scale the data as shown in:\n",
      "    https://scikit-learn.org/stable/modules/preprocessing.html\n",
      "Please also refer to the documentation for alternative solver options:\n",
      "    https://scikit-learn.org/stable/modules/linear_model.html#logistic-regression\n",
      "  n_iter_i = _check_optimize_result(\n",
      "D:\\MyProject\\python-tool\\.venv\\Lib\\site-packages\\sklearn\\linear_model\\_logistic.py:465: ConvergenceWarning: lbfgs failed to converge (status=1):\n",
      "STOP: TOTAL NO. OF ITERATIONS REACHED LIMIT.\n",
      "\n",
      "Increase the number of iterations (max_iter) or scale the data as shown in:\n",
      "    https://scikit-learn.org/stable/modules/preprocessing.html\n",
      "Please also refer to the documentation for alternative solver options:\n",
      "    https://scikit-learn.org/stable/modules/linear_model.html#logistic-regression\n",
      "  n_iter_i = _check_optimize_result(\n"
     ]
    },
    {
     "name": "stdout",
     "output_type": "stream",
     "text": [
      "✅ Training data success\n"
     ]
    }
   ],
   "execution_count": 26
  },
  {
   "metadata": {},
   "cell_type": "markdown",
   "source": "### Find best threshold",
   "id": "eabfa286df46184e"
  },
  {
   "metadata": {
    "ExecuteTime": {
     "end_time": "2025-04-15T03:00:12.163920Z",
     "start_time": "2025-04-15T03:00:10.674358Z"
    }
   },
   "cell_type": "code",
   "source": [
    "# Tối ưu threshold theo F1\n",
    "thresholds = np.arange(0.01, 0.99, 0.01)\n",
    "precisions = []\n",
    "recalls = []\n",
    "f1s = []\n",
    "\n",
    "for t in thresholds:\n",
    "    y_pred = (y_proba >= t).astype(int)\n",
    "    precisions.append(precision_score(y_test, y_pred, zero_division=0))\n",
    "    recalls.append(recall_score(y_test, y_pred))\n",
    "    f1s.append(f1_score(y_test, y_pred))\n",
    "\n",
    "# Vẽ biểu đồ\n",
    "plt.figure(figsize=(10, 6))\n",
    "plt.plot(thresholds, precisions, label='Precision', color='blue')\n",
    "plt.plot(thresholds, recalls, label='Recall', color='green')\n",
    "plt.plot(thresholds, f1s, label='F1-score', color='red')\n",
    "plt.axvline(thresholds[np.argmax(f1s)], color='red', linestyle='--', label='Best Threshold (F1-max)')\n",
    "\n",
    "plt.title('Precision, Recall & F1-score theo Threshold')\n",
    "plt.xlabel('Threshold')\n",
    "plt.ylabel('Score')\n",
    "plt.legend()\n",
    "plt.grid(True)\n",
    "plt.tight_layout()\n",
    "plt.show()\n",
    "\n",
    "best_index = np.argmax(f1s)\n",
    "\n",
    "print(f\"✅ Threshold tốt nhất theo F1-score: {thresholds[best_index]:.4f}\")\n",
    "print(f\"Precision score: {precisions[best_index]:.4f}\")\n",
    "print(f\"Recall score: {recalls[best_index]:.4f}\")\n",
    "print(f\"F1 score: {f1s[best_index]:.4f}\")"
   ],
   "id": "69163e0c6d8a978e",
   "outputs": [
    {
     "data": {
      "text/plain": [
       "<Figure size 1000x600 with 1 Axes>"
      ],
      "image/png": "[encoded data removed]"
     },
     "metadata": {},
     "output_type": "display_data"
    },
    {
     "name": "stdout",
     "output_type": "stream",
     "text": [
      "✅ Threshold tốt nhất theo F1-score: 0.1300\n",
      "Precision score: 0.9512\n",
      "Recall score: 0.7959\n",
      "F1 score: 0.8667\n"
     ]
    }
   ],
   "execution_count": 27
  },
  {
   "metadata": {},
   "cell_type": "code",
   "outputs": [],
   "execution_count": null,
   "source": "",
   "id": "25e3f25305c11880"
  }
 ],
 "metadata": {
  "kernelspec": {
   "display_name": "Python 3",
   "language": "python",
   "name": "python3"
  },
  "language_info": {
   "codemirror_mode": {
    "name": "ipython",
    "version": 2
   },
   "file_extension": ".py",
   "mimetype": "text/x-python",
   "name": "python",
   "nbconvert_exporter": "python",
   "pygments_lexer": "ipython2",
   "version": "2.7.6"
  }
 },
 "nbformat": 4,
 "nbformat_minor": 5
}
